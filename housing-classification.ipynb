{
 "cells": [
  {
   "cell_type": "code",
   "execution_count": 1,
   "metadata": {},
   "outputs": [],
   "source": [
    "import numpy as np\n",
    "import pandas as pd\n",
    "import math\n",
    "from sklearn.impute import KNNImputer\n",
    "from sklearn.preprocessing import OneHotEncoder, FunctionTransformer\n",
    "from sklearn.pipeline import Pipeline\n",
    "from sklearn.model_selection import KFold\n",
    "from model import MLPNeuralNetwork"
   ]
  },
  {
   "cell_type": "code",
   "execution_count": 2,
   "metadata": {},
   "outputs": [],
   "source": [
    "train_df = pd.read_csv('home-data-for-ml-course/train.csv')\n",
    "test_df = pd.read_csv('home-data-for-ml-course/test.csv')"
   ]
  },
  {
   "cell_type": "code",
   "execution_count": 3,
   "metadata": {},
   "outputs": [],
   "source": [
    "# 0 is numerical, 1 is categorical\n",
    "columns_dtypes = {\n",
    "    'MSSubClass': 1,\n",
    "    'MSZoning': 1,\n",
    "    'LotFrontage': 0,\n",
    "    'LotArea': 0,\n",
    "    'Street': 1,\n",
    "    'Alley': 1,\n",
    "    'LotShape': 1,\n",
    "    'LandContour': 1,\n",
    "    'Utilities': 1,\n",
    "    'LotConfig': 1,\n",
    "    'LandSlope': 1,\n",
    "    'Neighborhood': 1,\n",
    "    'Condition1': 1,\n",
    "    'Condition2': 1,\n",
    "    'BldgType': 1,\n",
    "    'HouseStyle': 1,\n",
    "    'OverallQual': 1,\n",
    "    'OverallCond': 1,\n",
    "    'YearBuilt': 0,\n",
    "    'YearRemodAdd': 0,\n",
    "    'RoofStyle': 1,\n",
    "    'RoofMatl': 1,\n",
    "    'Exterior1st': 1,\n",
    "    'Exterior2nd': 1,\n",
    "    'MasVnrType': 1,\n",
    "    'MasVnrArea': 0,\n",
    "    'ExterQual': 1,\n",
    "    'ExterCond': 1,\n",
    "    'Foundation': 1,\n",
    "    'BsmtQual': 1,\n",
    "    'BsmtCond': 1,\n",
    "    'BsmtExposure': 1,\n",
    "    'BsmtFinType1': 1,\n",
    "    'BsmtFinSF1': 0,\n",
    "    'BsmtFinType2': 1,\n",
    "    'BsmtFinSF2': 0,\n",
    "    'BsmtUnfSF': 0,\n",
    "    'TotalBsmtSF': 0,\n",
    "    'Heating': 1,\n",
    "    'HeatingQC': 1,\n",
    "    'CentralAir': 1,\n",
    "    'Electrical': 1,\n",
    "    '1stFlrSF': 0,\n",
    "    '2ndFlrSF': 0,\n",
    "    'LowQualFinSF': 0,\n",
    "    'GrLivArea': 0,\n",
    "    'BsmtFullBath': 0,\n",
    "    'BsmtHalfBath': 0,\n",
    "    'FullBath': 0,\n",
    "    'HalfBath': 0,\n",
    "    'BedroomAbvGr': 0,\n",
    "    'KitchenAbvGr': 0,\n",
    "    'KitchenQual': 1,\n",
    "    'TotRmsAbvGrd': 0,\n",
    "    'Functional': 1,\n",
    "    'Fireplaces': 0,\n",
    "    'FireplaceQu': 1,\n",
    "    'GarageType': 1,\n",
    "    'GarageYrBlt': 0,\n",
    "    'GarageFinish': 1,\n",
    "    'GarageCars': 0,\n",
    "    'GarageArea': 0,\n",
    "    'GarageQual': 1,\n",
    "    'GarageCond': 1,\n",
    "    'PavedDrive': 1,\n",
    "    'WoodDeckSF': 0,\n",
    "    'OpenPorchSF': 0,\n",
    "    'EnclosedPorch': 0,\n",
    "    '3SsnPorch': 0,\n",
    "    'ScreenPorch': 0,\n",
    "    'PoolArea': 0,\n",
    "    'PoolQC': 1,\n",
    "    'Fence': 1,\n",
    "    'MiscFeature': 1,\n",
    "    'MiscVal': 0,\n",
    "    'MoSold': 0,\n",
    "    'YrSold': 0,\n",
    "    'SaleType': 1,\n",
    "    'SaleCondition': 1,\n",
    "    'SalePrice': 0\n",
    "}"
   ]
  },
  {
   "cell_type": "code",
   "execution_count": 4,
   "metadata": {},
   "outputs": [],
   "source": [
    "def missing_data_value(data: pd.DataFrame):\n",
    "\ttotal_size = data.size\n",
    "\tmissing_values = data.isnull().sum().sum()\n",
    "\tpercentage_missing = (missing_values / total_size)\n",
    "\t\n",
    "\tprint(f\"Total size: {total_size}\")\n",
    "\tprint(f\"Missing values: {missing_values}\")\n",
    "\tprint(f\"Percentage missing: {percentage_missing}\")\n",
    "\tprint()\n",
    "\treturn percentage_missing"
   ]
  },
  {
   "cell_type": "code",
   "execution_count": 5,
   "metadata": {},
   "outputs": [],
   "source": [
    "def nomalization(data: pd.DataFrame, label_col: str):\n",
    "    data_to_normalize = data.drop(columns=[label_col])\n",
    "    features_max = data_to_normalize.max()\n",
    "    features_min = data_to_normalize.min()\n",
    "    normalized_data = 2 * (data_to_normalize - features_min) / (features_max - features_min) - 1\n",
    "    normalized_data[label_col] = data[label_col]\n",
    "    return normalized_data"
   ]
  },
  {
   "cell_type": "code",
   "execution_count": 6,
   "metadata": {},
   "outputs": [],
   "source": [
    "def preprocess_data(data: pd.DataFrame, columns_dtype: dict, label_col: str):\n",
    "    imputer = KNNImputer(n_neighbors=int(np.sqrt(len(data))))\n",
    "    for col in data.columns:\n",
    "        if columns_dtype[col] == 1: # categorical\n",
    "            data[col] = data[col].fillna('unknown')\n",
    "        else: # numerical\n",
    "            imputed_values = imputer.fit_transform(data[[col]])\n",
    "            data[col] = imputed_values.flatten()\n",
    "                \n",
    "    categorical_cols = [col for col in data.columns if columns_dtype[col] == 1]\n",
    "    numerical_cols = [col for col in data.columns if columns_dtype[col] == 0]\n",
    "                \n",
    "    encoder = OneHotEncoder(handle_unknown='ignore', sparse_output=False, drop='first')\n",
    "    encoded_categorical_data = encoder.fit_transform(data[categorical_cols])\n",
    "    encoded_feature_names = encoder.get_feature_names_out(categorical_cols)\n",
    "    \n",
    "    for feature in encoded_feature_names:\n",
    "        columns_dtype[feature] = 1\n",
    "    \n",
    "    categorical_df = pd.DataFrame(encoded_categorical_data, columns=encoded_feature_names, index=data.index)\n",
    "    \n",
    "    normalized_numerical_data = nomalization(data[numerical_cols], label_col)\n",
    "    \n",
    "    df = pd.concat([categorical_df, normalized_numerical_data], axis=1)\n",
    "\n",
    "    return df"
   ]
  },
  {
   "cell_type": "code",
   "execution_count": 7,
   "metadata": {},
   "outputs": [],
   "source": [
    "def df_to_np(df: pd.DataFrame, label_col: str):\n",
    "\tfeatures_data = df.drop(columns=[label_col]).to_numpy()\n",
    "\tlabel_data = df[label_col].to_numpy()\n",
    "\treturn features_data, label_data"
   ]
  },
  {
   "cell_type": "code",
   "execution_count": 8,
   "metadata": {},
   "outputs": [],
   "source": [
    "def k_fold(features: np.ndarray, labels: np.ndarray, k: int):\n",
    "    kf = KFold(n_splits=k, shuffle=True, random_state=42)\n",
    "    return kf.split(features, labels)"
   ]
  },
  {
   "cell_type": "code",
   "execution_count": 9,
   "metadata": {},
   "outputs": [],
   "source": [
    "preprocess_transformer = FunctionTransformer(func=preprocess_data, kw_args={'columns_dtype': columns_dtypes, 'label_col': 'SalePrice'})\n",
    "np_transformer = FunctionTransformer(func=df_to_np, kw_args={'label_col': 'SalePrice'})"
   ]
  },
  {
   "cell_type": "code",
   "execution_count": 10,
   "metadata": {},
   "outputs": [
    {
     "name": "stdout",
     "output_type": "stream",
     "text": [
      "Data preprocessed\n",
      "Dataframe turned into numpy arrays\n",
      "Training features shape:  (1460, 288)\n",
      "Training labels shape:  (1460,)\n"
     ]
    }
   ],
   "source": [
    "pipeline = Pipeline(steps=[\n",
    "    ('preprocess', preprocess_transformer),\n",
    "    ('df_to_np', np_transformer)\n",
    "])\n",
    "\n",
    "train_features, train_labels = pipeline.fit_transform(train_df.drop(columns=['Id']))\n",
    "\n",
    "print('Data preprocessed')\n",
    "print('Dataframe turned into numpy arrays')\n",
    "\n",
    "print('Training features shape: ', train_features.shape)\n",
    "print('Training labels shape: ', train_labels.shape)"
   ]
  },
  {
   "cell_type": "code",
   "execution_count": 11,
   "metadata": {},
   "outputs": [],
   "source": [
    "k_fold_index = k_fold(train_features, train_labels, k=10)\n",
    "params = {\n",
    "    'alphas': [0.6, 0.7, 0.8, 0.9],\n",
    "    'lambdas': [0, 0.1, 0.2, 0.3],\n",
    "    'epsilons': [math.pow(math.e, -7), math.pow(math.e, -6), math.pow(math.e, -5)],\n",
    "    'hidden_sizes': [1, 3, 5, 10],\n",
    "    'neurons_per_layer': [5, 10, 20]\n",
    "}"
   ]
  },
  {
   "cell_type": "code",
   "execution_count": 12,
   "metadata": {},
   "outputs": [
    {
     "name": "stdout",
     "output_type": "stream",
     "text": [
      "Model: MLP - Multi-Layer Perceptron\n",
      "Type: Regression\n",
      "Purpose: Housing Prices Prediction\n",
      "\n"
     ]
    }
   ],
   "source": [
    "neural_network = MLPNeuralNetwork(len(train_features[0]), 1)\n",
    "neural_network.get_info()"
   ]
  },
  {
   "cell_type": "code",
   "execution_count": 13,
   "metadata": {},
   "outputs": [
    {
     "name": "stdout",
     "output_type": "stream",
     "text": [
      "Training stopped after reaching max_epochs (5000).\n",
      "Training stopped after reaching max_epochs (5000).\n",
      "Training stopped after reaching max_epochs (5000).\n",
      "Training stopped after reaching max_epochs (5000).\n",
      "Training stopped after reaching max_epochs (5000).\n",
      "Training stopped after reaching max_epochs (5000).\n",
      "Training stopped after reaching max_epochs (5000).\n",
      "Training stopped after reaching max_epochs (5000).\n",
      "Training stopped after reaching max_epochs (5000).\n",
      "Training stopped after reaching max_epochs (5000).\n",
      "[67235.09725539657, 90538.44424454994, 53614.60116661237, 66064.22221444616, 64629.39569511068, 70799.75490583866, 60149.35788728077, 64785.46964805346, 54307.83923367539, 52107.027035202496]\n",
      "[]\n"
     ]
    },
    {
     "ename": "ValueError",
     "evalue": "Error: mean_abs_errors is empty! Something went wrong in training/testing.",
     "output_type": "error",
     "traceback": [
      "\u001b[31m---------------------------------------------------------------------------\u001b[39m",
      "\u001b[31mValueError\u001b[39m                                Traceback (most recent call last)",
      "\u001b[36mCell\u001b[39m\u001b[36m \u001b[39m\u001b[32mIn[13]\u001b[39m\u001b[32m, line 1\u001b[39m\n\u001b[32m----> \u001b[39m\u001b[32m1\u001b[39m \u001b[43mneural_network\u001b[49m\u001b[43m.\u001b[49m\u001b[43mgrid_search\u001b[49m\u001b[43m(\u001b[49m\u001b[43mtrain_features\u001b[49m\u001b[43m,\u001b[49m\u001b[43m \u001b[49m\u001b[43mtrain_labels\u001b[49m\u001b[43m,\u001b[49m\u001b[43m \u001b[49m\u001b[43mparams\u001b[49m\u001b[43m,\u001b[49m\u001b[43m \u001b[49m\u001b[43mk_fold_index\u001b[49m\u001b[43m)\u001b[49m\n",
      "\u001b[36mFile \u001b[39m\u001b[32m~/Desktop/housing-prices-predictor/model.py:154\u001b[39m, in \u001b[36mMLPNeuralNetwork.grid_search\u001b[39m\u001b[34m(self, features, labels, params, k_fold_index)\u001b[39m\n\u001b[32m    151\u001b[39m \u001b[38;5;28mprint\u001b[39m(mean_abs_errors)\n\u001b[32m    153\u001b[39m \u001b[38;5;28;01mif\u001b[39;00m \u001b[38;5;28mlen\u001b[39m(mean_abs_errors) == \u001b[32m0\u001b[39m:\n\u001b[32m--> \u001b[39m\u001b[32m154\u001b[39m     \u001b[38;5;28;01mraise\u001b[39;00m \u001b[38;5;167;01mValueError\u001b[39;00m(\u001b[33m\"\u001b[39m\u001b[33mError: mean_abs_errors is empty! Something went wrong in training/testing.\u001b[39m\u001b[33m\"\u001b[39m)\n\u001b[32m    156\u001b[39m mean_mae = np.mean(mean_abs_errors)\n\u001b[32m    157\u001b[39m \u001b[38;5;28;01mif\u001b[39;00m mean_mae < best_mae:\n",
      "\u001b[31mValueError\u001b[39m: Error: mean_abs_errors is empty! Something went wrong in training/testing."
     ]
    }
   ],
   "source": [
    "neural_network.grid_search(train_features, train_labels, params, k_fold_index)"
   ]
  },
  {
   "cell_type": "code",
   "execution_count": null,
   "metadata": {},
   "outputs": [],
   "source": [
    "neural_network.fit(train_features, train_labels)"
   ]
  },
  {
   "cell_type": "code",
   "execution_count": null,
   "metadata": {},
   "outputs": [],
   "source": [
    "test_features = pipeline.transform(test_df.drop(columns=['Id']))\n",
    "test_id = test_df['Id']"
   ]
  },
  {
   "cell_type": "code",
   "execution_count": null,
   "metadata": {},
   "outputs": [],
   "source": [
    "housing_price_prediction = neural_network.predict(test_id,test_features)"
   ]
  },
  {
   "cell_type": "code",
   "execution_count": null,
   "metadata": {},
   "outputs": [],
   "source": [
    "filename = 'submission.csv'\n",
    "housing_price_prediction.to_csv(filename, index=False)"
   ]
  }
 ],
 "metadata": {
  "kernelspec": {
   "display_name": ".venv",
   "language": "python",
   "name": "python3"
  },
  "language_info": {
   "codemirror_mode": {
    "name": "ipython",
    "version": 3
   },
   "file_extension": ".py",
   "mimetype": "text/x-python",
   "name": "python",
   "nbconvert_exporter": "python",
   "pygments_lexer": "ipython3",
   "version": "3.11.9"
  }
 },
 "nbformat": 4,
 "nbformat_minor": 2
}
